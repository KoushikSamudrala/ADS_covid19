{
 "cells": [
  {
   "cell_type": "code",
   "execution_count": null,
   "id": "ded10d2a",
   "metadata": {},
   "outputs": [],
   "source": [
    "#importing dependencies\n",
    "import pandas as pd\n",
    "import numpy as np\n",
    "from datetime import datetime\n",
    "import pandas as pd \n",
    "\n",
    "from scipy import optimize\n",
    "from scipy import integrate\n",
    "import plotly.graph_objects as go\n",
    "\n",
    "%matplotlib inline\n",
    "import matplotlib as mpl\n",
    "import matplotlib.pyplot as plt\n",
    "\n",
    "import seaborn as sns\n",
    "import dash\n",
    "from dash import dcc\n",
    "from dash import html\n",
    "from dash.dependencies import Input, Output,State\n",
    "\n",
    "\n",
    "\n",
    "sns.set(style=\"whitegrid\")\n",
    "\n",
    "mpl.rcParams['figure.figsize'] = (16, 9)\n",
    "pd.set_option('display.max_rows', 500)"
   ]
  },
  {
   "cell_type": "markdown",
   "id": "16b75b20",
   "metadata": {},
   "source": [
    "# Data update"
   ]
  },
  {
   "cell_type": "code",
   "execution_count": null,
   "id": "243382e3",
   "metadata": {},
   "outputs": [],
   "source": [
    "#preparing data\n",
    "data_url =\"https://raw.githubusercontent.com/CSSEGISandData/COVID-19/master/csse_covid_19_data/csse_covid_19_time_series/time_series_covid19_confirmed_global.csv\"\n",
    "\n",
    "pd_raw = pd.read_csv(data_url)\n",
    "time_idx=pd_raw.columns[4:]\n",
    "df_plot = pd.DataFrame({\n",
    "    'date':time_idx})\n",
    "df_plot\n",
    "pd_raw[pd_raw['Country/Region']=='Germany'].iloc[:,4::].sum(axis=0)\n",
    "country_list = pd_raw['Country/Region'].unique()\n",
    "for each in country_list:\n",
    "    df_plot[each]=np.array(pd_raw[pd_raw['Country/Region']==each].iloc[:,4::].sum(axis=0))\n",
    "    \n",
    "time_idx=[datetime.strptime( each,\"%m/%d/%y\") for each in df_plot.date] # convert to datetime\n",
    "time_str=[each.strftime('%Y-%m-%d') for each in time_idx] # convert back to date ISO norm (str)\n",
    "df_plot['date']=time_idx\n",
    "type(df_plot['date'][0])\n",
    "df_plot.to_csv('../data/processed/COVID_small_flat_table.csv',sep=';',index=False)"
   ]
  },
  {
   "cell_type": "code",
   "execution_count": null,
   "id": "34ac63e5",
   "metadata": {},
   "outputs": [],
   "source": [
    "df_analyse=pd.read_csv('../data/processed/COVID_small_flat_table.csv',sep=';')  \n",
    "#df_analyse.sort_values('date',ascending=True)"
   ]
  },
  {
   "cell_type": "code",
   "execution_count": null,
   "id": "e79d72f0",
   "metadata": {},
   "outputs": [],
   "source": [
    "df_analyse"
   ]
  },
  {
   "cell_type": "code",
   "execution_count": null,
   "id": "5249fe24",
   "metadata": {},
   "outputs": [],
   "source": [
    "# set some basic parameters\n",
    "# beta/gamma is denoted as  'basic reproduction number'\n",
    "\n",
    "N0=1000000 #max susceptible population\n",
    "beta=0.4   # infection spread dynamics\n",
    "gamma=0.1  # recovery rate\n",
    "\n",
    "## beta/gamma is the basic reproduction number, <1 means no spread virus\n",
    "\n",
    "\n",
    "# condition I0+S0+R0=N0\n",
    "I0=df_analyse.Germany[35]\n",
    "S0=N0-I0\n",
    "R0=0"
   ]
  },
  {
   "cell_type": "code",
   "execution_count": null,
   "id": "e2921201",
   "metadata": {},
   "outputs": [],
   "source": [
    "def SIR_model(SIR,beta,gamma):\n",
    "    ''' Simple SIR model\n",
    "        S: susceptible population\n",
    "        I: infected people\n",
    "        R: recovered people\n",
    "        beta: \n",
    "        \n",
    "        overall condition is that the sum of changes (differnces) sum up to 0\n",
    "        dS+dI+dR=0\n",
    "        S+I+R= N (constant size of population)\n",
    "    \n",
    "    '''\n",
    "    \n",
    "    S,I,R=SIR\n",
    "    dS_dt=-beta*S*I/N0          #S*I is the \n",
    "    dI_dt=beta*S*I/N0-gamma*I\n",
    "    dR_dt=gamma*I\n",
    "    return([dS_dt,dI_dt,dR_dt])\n"
   ]
  },
  {
   "cell_type": "code",
   "execution_count": null,
   "id": "1a159033",
   "metadata": {},
   "outputs": [],
   "source": [
    "\n",
    "SIR=np.array([S0,I0,R0])\n",
    "propagation_rates=pd.DataFrame(columns={'susceptible':S0,\n",
    "                                        'infected':I0,\n",
    "                                        'recoverd':R0})\n",
    "\n",
    "\n",
    "\n",
    "for each_t in np.arange(100):\n",
    "   \n",
    "    new_delta_vec=SIR_model(SIR,beta,gamma)\n",
    "   \n",
    "    SIR=SIR+new_delta_vec\n",
    "    \n",
    "    propagation_rates=propagation_rates.append({'susceptible':SIR[0],\n",
    "                                                'infected':SIR[1],\n",
    "                                                'recovered':SIR[2]}, ignore_index=True)"
   ]
  },
  {
   "cell_type": "code",
   "execution_count": null,
   "id": "11f45b5d",
   "metadata": {},
   "outputs": [],
   "source": [
    "fig, ax1 = plt.subplots(1, 1)\n",
    "\n",
    "ax1.plot(propagation_rates.index,propagation_rates.infected,label='infected',color='k')\n",
    "ax1.plot(propagation_rates.index,propagation_rates.recovered,label='recovered')\n",
    "ax1.plot(propagation_rates.index,propagation_rates.susceptible,label='susceptible')\n",
    "\n",
    "ax1.set_ylim(10, 1000000)\n",
    "ax1.set_yscale('linear')\n",
    "ax1.set_title('Szenario SIR simulations  (demonstration purposes only)',size=16)\n",
    "ax1.set_xlabel('time in days',size=16)\n",
    "ax1.legend(loc='best',\n",
    "           prop={'size': 16});"
   ]
  },
  {
   "cell_type": "code",
   "execution_count": null,
   "id": "90e97946",
   "metadata": {},
   "outputs": [],
   "source": [
    "def SIR_model_t(SIR,t,beta,gamma):\n",
    "    ''' Simple SIR model\n",
    "        S: susceptible population\n",
    "        t: time step, mandatory for integral.odeint\n",
    "        I: infected people\n",
    "        R: recovered people\n",
    "        beta: \n",
    "        \n",
    "        overall condition is that the sum of changes (differnces) sum up to 0\n",
    "        dS+dI+dR=0\n",
    "        S+I+R= N (constant size of population)\n",
    "    \n",
    "    '''\n",
    "    \n",
    "    S,I,R=SIR\n",
    "    dS_dt=-beta*S*I/N0          #S*I is the \n",
    "    dI_dt=beta*S*I/N0-gamma*I\n",
    "    dR_dt=gamma*I\n",
    "    return dS_dt,dI_dt,dR_dt"
   ]
  },
  {
   "cell_type": "code",
   "execution_count": null,
   "id": "e1f5aba3",
   "metadata": {},
   "outputs": [],
   "source": [
    "# the resulting curve has to be fitted\n",
    "# free parameters are here beta and gamma\n",
    "\n",
    "def fit_odeint(x, beta, gamma):\n",
    "    '''\n",
    "    helper function for the integration\n",
    "    '''\n",
    "    return integrate.odeint(SIR_model_t, (S0, I0, R0), t, args=(beta, gamma))[:,1] # we only would like to get dI"
   ]
  },
  {
   "cell_type": "code",
   "execution_count": null,
   "id": "3242866a",
   "metadata": {},
   "outputs": [],
   "source": [
    "ydata = propagation_rates.infected\n",
    "t=np.arange(len(ydata))"
   ]
  },
  {
   "cell_type": "code",
   "execution_count": null,
   "id": "476453ea",
   "metadata": {},
   "outputs": [],
   "source": [
    "popt, pcov = optimize.curve_fit(fit_odeint, t, ydata)\n",
    "perr = np.sqrt(np.diag(pcov))\n",
    "    \n",
    "print('standard deviation errors : ',str(perr), ' start infect:',ydata[0])\n",
    "print(\"Optimal parameters: beta =\", popt[0], \" and gamma = \", popt[1])\n"
   ]
  },
  {
   "cell_type": "code",
   "execution_count": null,
   "id": "c1295037",
   "metadata": {},
   "outputs": [],
   "source": [
    "fitted=fit_odeint(t, *popt)"
   ]
  },
  {
   "cell_type": "code",
   "execution_count": null,
   "id": "afb0233f",
   "metadata": {},
   "outputs": [],
   "source": [
    "plt.semilogy(t, ydata, 'o')\n",
    "plt.semilogy(t, fitted)\n",
    "#plt.semilogy(fitted)\n",
    "\n",
    "plt.title(\"Fit of SIR model for Germany cases\")\n",
    "plt.ylabel(\"Total Population infected\")\n",
    "plt.xlabel(\"Days\")\n",
    "plt.show()\n",
    "print(\"Optimal parameters: beta =\", popt[0], \" and gamma = \", popt[1])\n",
    "print(\"Basic Reproduction Number R0 \" , popt[0]/ popt[1])\n",
    "print(\"This ratio is derived as the expected number of new infections (these new infections are sometimes called secondary infections from a single infection in a population where all subjects are susceptible. @wiki\")"
   ]
  },
  {
   "cell_type": "markdown",
   "id": "a4e34d75",
   "metadata": {},
   "source": [
    "# For All countries"
   ]
  },
  {
   "cell_type": "code",
   "execution_count": null,
   "id": "75e5bec8",
   "metadata": {},
   "outputs": [],
   "source": [
    "df_country=df_analyse.columns\n",
    "df_country = np.array(df_country.drop(\"date\"))\n",
    "print(df_country)"
   ]
  },
  {
   "cell_type": "code",
   "execution_count": null,
   "id": "28b52f0f",
   "metadata": {},
   "outputs": [],
   "source": [
    "N0=1000000 #max susceptible population as shown in the lecture not accurate\n",
    "beta=0.4   # infection spread \n",
    "gamma=0.1  # recovery rate\n",
    "\n",
    "df_data=df_analyse[58:]\n",
    "t=np.arange(df_data.shape[0])\n",
    "print(df_data.columns[1:])\n",
    "R0=0\n",
    "    \n",
    "for country in df_country: #df_data.columns[1:]:\n",
    "    y_data=np.array(df_data[df_data[country]>0][country])\n",
    "    t=np.arange(len(y_data))\n",
    "\n",
    "    I0=y_data[0]\n",
    "    S0=N0-I0\n",
    "    popt=[0.4,0.1]\n",
    "    fit_odeint(t, *popt)\n",
    "    popt, pcov = optimize.curve_fit(fit_odeint, t, y_data, maxfev=100000)\n",
    "    perr = np.sqrt(np.diag(pcov))\n",
    "    fitted=fit_odeint(t, *popt)\n",
    "    fitted_pad = np.concatenate((np.zeros(df_data.shape[0]-len(fitted)) ,fitted))\n",
    "    df_data[country + '_fitted'] = fitted_pad"
   ]
  },
  {
   "cell_type": "code",
   "execution_count": null,
   "id": "372e7fbd",
   "metadata": {},
   "outputs": [],
   "source": [
    "df_data = df_data.reset_index(drop=True)"
   ]
  },
  {
   "cell_type": "code",
   "execution_count": null,
   "id": "234284b3",
   "metadata": {},
   "outputs": [],
   "source": [
    "# creating dashboard app containig plotting of source and fitted SIR curve data for whole dataset\n",
    "fig = go.Figure()\n",
    "app = dash.Dash()\n",
    "app.layout = html.Div([\n",
    "\n",
    "    dcc.Markdown('''\n",
    "    #  SIR Model Dashboard\n",
    "    * The first plot shows the confirmed cases with time.\n",
    "    * The second plot shows the predicted cases with time. \n",
    "    \n",
    "    '''),\n",
    "\n",
    "    dcc.Markdown('''\n",
    "    ## Select Country\n",
    "    '''),\n",
    "    dcc.Dropdown(\n",
    "        id='country_drop_down',\n",
    "        options=[ {'label': each,'value':each} for each in df_data.columns[1:200]],\n",
    "        value=['Italy','Germany', 'US'], # which are pre-selected\n",
    "        multi=True),\n",
    "    dcc.Graph(figure=fig, id='main_window_slope')])\n",
    "\n",
    "\n",
    "@app.callback(\n",
    "    Output('main_window_slope', 'figure'),\n",
    "    [Input('country_drop_down', 'value')])\n",
    "def update_figure(country_list):\n",
    "    v = 0\n",
    "    my_yaxis={'type':\"log\",'title':'Confirmed'}\n",
    "    traces = []\n",
    "    for each in country_list:\n",
    "        traces.append(dict(x=df_data['date'],y=df_data[each],\n",
    "                                mode='line',name=each))\n",
    "        traces.append(dict(x=df_data['date'],\n",
    "                                y=df_data[each+'_fitted'],\n",
    "                                mode='lines+markers',name=each+'_simulated'))\n",
    "\n",
    "        v = v+1\n",
    "    return {\n",
    "            'data': traces,\n",
    "            'layout': dict (\n",
    "                width=1280,height=720,\n",
    "                xaxis={'title':'Time','tickangle':-45,'nticks':20,\n",
    "                'tickfont':dict(size=14,color=\"#0c6887\"),},yaxis=my_yaxis)}\n",
    "\n",
    "if __name__ == '__main__':\n",
    "    app.run_server(debug=True, use_reloader=False)"
   ]
  },
  {
   "cell_type": "code",
   "execution_count": null,
   "id": "b0ad44e2",
   "metadata": {},
   "outputs": [],
   "source": []
  }
 ],
 "metadata": {
  "kernelspec": {
   "display_name": "Python 3",
   "language": "python",
   "name": "python3"
  },
  "language_info": {
   "codemirror_mode": {
    "name": "ipython",
    "version": 3
   },
   "file_extension": ".py",
   "mimetype": "text/x-python",
   "name": "python",
   "nbconvert_exporter": "python",
   "pygments_lexer": "ipython3",
   "version": "3.9.12"
  }
 },
 "nbformat": 4,
 "nbformat_minor": 5
}
